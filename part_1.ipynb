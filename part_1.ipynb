{
 "cells": [
  {
   "cell_type": "code",
   "execution_count": 1,
   "metadata": {},
   "outputs": [],
   "source": [
    "# Import Splinter, BeautifulSoup, and Webdriver\n",
    "from splinter import Browser as browser\n",
    "from bs4 import BeautifulSoup as bs\n",
    "from selenium import webdriver\n",
    "import pprint "
   ]
  },
  {
   "cell_type": "code",
   "execution_count": 2,
   "metadata": {
    "scrolled": true
   },
   "outputs": [],
   "source": [
    "browser = browser('chrome')"
   ]
  },
  {
   "attachments": {},
   "cell_type": "markdown",
   "metadata": {},
   "source": [
    "# Module 12 Challenge\n",
    "## Deliverable 1: Scrape Titles and Preview Text from Mars News"
   ]
  },
  {
   "cell_type": "code",
   "execution_count": 3,
   "metadata": {},
   "outputs": [],
   "source": [
    "# Visit the Mars news site\n",
    "url = 'https://static.bc-edx.com/data/web/mars_news/index.html'\n",
    "browser.visit(url)"
   ]
  },
  {
   "cell_type": "code",
   "execution_count": 4,
   "metadata": {},
   "outputs": [],
   "source": [
    "# Scrape the website\n",
    "html = browser.html"
   ]
  },
  {
   "cell_type": "code",
   "execution_count": 5,
   "metadata": {},
   "outputs": [],
   "source": [
    "# Create a Beautiful Soup object\n",
    "soup = bs(html,'html.parser')"
   ]
  },
  {
   "cell_type": "code",
   "execution_count": 7,
   "metadata": {},
   "outputs": [],
   "source": [
    "# Create an empty list to store the dictionaries\n",
    "article_list= []"
   ]
  },
  {
   "cell_type": "code",
   "execution_count": 8,
   "metadata": {},
   "outputs": [],
   "source": [
    "# Find all divs that contain a news articles\n",
    "news = soup.find_all('div',class_='list_text')"
   ]
  },
  {
   "cell_type": "code",
   "execution_count": 9,
   "metadata": {},
   "outputs": [],
   "source": [
    "# Create a for loop to extract the information\n",
    "for article in news:\n",
    "    # Extract the title\n",
    "    title = article.find('div', class_='content_title').text\n",
    "    \n",
    "    # Extract the preview\n",
    "    preview = article.find('div', class_=\"article_teaser_body\").text\n",
    "\n",
    "    # Create a dictionary to store the information\n",
    "    news_dict = {\"title\": title,\n",
    "                    \"preview\": preview}\n",
    "    \n",
    "    # Append the dictionary to the question list\n",
    "    article_list.append(news_dict)"
   ]
  },
  {
   "cell_type": "code",
   "execution_count": 10,
   "metadata": {},
   "outputs": [
    {
     "name": "stdout",
     "output_type": "stream",
     "text": [
      "[   {   'preview': 'For the first time in its eight years orbiting Mars, '\n",
      "                   'NASA’s MAVEN mission witnessed two different types of '\n",
      "                   'ultraviolet aurorae simultaneously, the result of solar '\n",
      "                   'storms that began on Aug. 27.',\n",
      "        'title': \"NASA's MAVEN Observes Martian Light Show Caused by Major \"\n",
      "                 'Solar Storm'},\n",
      "    {   'preview': 'A closer look at what goes into wrapping up the mission as '\n",
      "                   'the spacecraft’s power supply continues to dwindle.',\n",
      "        'title': \"NASA Prepares to Say 'Farewell' to InSight Spacecraft\"},\n",
      "    {   'preview': 'The agency’s Perseverance rover will establish the first '\n",
      "                   'sample depot on Mars.',\n",
      "        'title': 'NASA and ESA Agree on Next Steps to Return Mars Samples to '\n",
      "                 'Earth'},\n",
      "    {   'preview': 'The agency’s lander felt the ground shake during the '\n",
      "                   'impact while cameras aboard the Mars Reconnaissance '\n",
      "                   'Orbiter spotted the yawning new crater from space.',\n",
      "        'title': \"NASA's InSight Lander Detects Stunning Meteoroid Impact on \"\n",
      "                 'Mars'},\n",
      "    {   'preview': 'Scientists from two Mars missions will discuss how they '\n",
      "                   'combined images and data for a major finding on the Red '\n",
      "                   'Planet.',\n",
      "        'title': 'NASA To Host Briefing on InSight, Mars Reconnaissance '\n",
      "                 'Orbiter Findings'},\n",
      "    {   'preview': 'Like a car’s crumple zone, the experimental SHIELD lander '\n",
      "                   'is designed to absorb a hard impact.',\n",
      "        'title': 'Why NASA Is Trying To Crash Land on Mars'},\n",
      "    {   'preview': 'After years of climbing, the Mars rover has arrived at a '\n",
      "                   'special region believed to have formed as Mars’ climate '\n",
      "                   'was drying.',\n",
      "        'title': 'Curiosity Mars Rover Reaches Long-Awaited Salty Region'},\n",
      "    {   'preview': 'Protecting Mars Sample Return spacecraft from '\n",
      "                   'micrometeorites requires high-caliber work.',\n",
      "        'title': 'Mars Mission Shields Up for Tests'},\n",
      "    {   'preview': 'InSight’s team is taking steps to help the solar-powered '\n",
      "                   'lander continue operating for as long as possible.',\n",
      "        'title': \"NASA's InSight Waits Out Dust Storm\"},\n",
      "    {   'preview': 'The Mars lander’s seismometer has picked up vibrations '\n",
      "                   'from four separate impacts in the past two years.',\n",
      "        'title': \"NASA's InSight 'Hears' Its First Meteoroid Impacts on Mars\"},\n",
      "    {   'preview': 'The latest findings provide greater detail on a region of '\n",
      "                   'the Red Planet that has a watery past and is yielding '\n",
      "                   'promising samples for the NASA-ESA Mars Sample Return '\n",
      "                   'campaign.',\n",
      "        'title': \"NASA's Perseverance Rover Investigates Geologically Rich \"\n",
      "                 'Mars Terrain'},\n",
      "    {   'preview': 'Members of the mission will discuss the rover’s activities '\n",
      "                   'as it gathers samples in an ancient river delta.',\n",
      "        'title': 'NASA to Host Briefing on Perseverance Mars Rover Mission '\n",
      "                 'Operations'},\n",
      "    {   'preview': 'The rover found that Jezero Crater’s floor is made up of '\n",
      "                   'volcanic rocks that have interacted with water.',\n",
      "        'title': \"NASA's Perseverance Makes New Discoveries in Mars' Jezero \"\n",
      "                 'Crater'},\n",
      "    {   'preview': 'Despite signs of wear, the intrepid spacecraft is about to '\n",
      "                   'start an exciting new chapter of its mission as it climbs '\n",
      "                   'a Martian mountain.',\n",
      "        'title': \"10 Years Since Landing, NASA's Curiosity Mars Rover Still \"\n",
      "                 'Has Drive'},\n",
      "    {   'preview': '“Selfie” of the Curiosity rover with inset showing the SAM '\n",
      "                   'instrument prior to installation on the rover.',\n",
      "        'title': \"SAM's Top 5 Discoveries Aboard NASA's Curiosity Rover at \"\n",
      "                 'Mars'}]\n"
     ]
    }
   ],
   "source": [
    "# Print the list to confirm success and print pretty\n",
    "pp = pprint.PrettyPrinter(indent=4)\n",
    "pp.pprint(article_list)"
   ]
  },
  {
   "cell_type": "code",
   "execution_count": 11,
   "metadata": {},
   "outputs": [],
   "source": [
    "browser.quit()"
   ]
  }
 ],
 "metadata": {
  "kernelspec": {
   "display_name": "Python 3 (ipykernel)",
   "language": "python",
   "name": "python3"
  },
  "language_info": {
   "codemirror_mode": {
    "name": "ipython",
    "version": 3
   },
   "file_extension": ".py",
   "mimetype": "text/x-python",
   "name": "python",
   "nbconvert_exporter": "python",
   "pygments_lexer": "ipython3",
   "version": "3.11.7"
  },
  "vscode": {
   "interpreter": {
    "hash": "31f2aee4e71d21fbe5cf8b01ff0e069b9275f58929596ceb00d14d90e3e16cd6"
   }
  }
 },
 "nbformat": 4,
 "nbformat_minor": 4
}
